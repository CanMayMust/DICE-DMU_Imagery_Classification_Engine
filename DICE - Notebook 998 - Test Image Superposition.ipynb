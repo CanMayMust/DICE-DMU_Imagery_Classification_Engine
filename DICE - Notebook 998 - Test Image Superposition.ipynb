{
 "cells": [
  {
   "cell_type": "code",
   "execution_count": 1,
   "metadata": {
    "collapsed": true
   },
   "outputs": [],
   "source": [
    "import tensorflow as tf\n",
    "import numpy as np\n",
    "import os, sys, string, random\n",
    "\n",
    "import matplotlib.pyplot as plt\n",
    "import matplotlib.image as mpimg\n",
    "\n",
    "%matplotlib inline"
   ]
  },
  {
   "cell_type": "code",
   "execution_count": 2,
   "metadata": {
    "collapsed": true
   },
   "outputs": [],
   "source": [
    "def color_to_alpha(image, target_color=None):\n",
    "    \n",
    "    data = np.array(image)\n",
    "    \n",
    "    rgb = data[:,:,:3]\n",
    "    \n",
    "    if target_color is None:\n",
    "        target_color =  [255, 255, 255]  # Original value\n",
    "        \n",
    "    transparent_color = [0, 0, 0, 0]\n",
    "    mask = np.all(rgb == target_color, axis = -1)\n",
    "    \n",
    "    # change all pixels that match color to transparent_color*\n",
    "    data[mask] = transparent_color\n",
    "    \n",
    "    return data"
   ]
  },
  {
   "cell_type": "code",
   "execution_count": 3,
   "metadata": {
    "collapsed": true
   },
   "outputs": [],
   "source": [
    "filename_queue = tf.train.string_input_producer(tf.train.match_filenames_once(\"./random_dir/original/*.png\"))"
   ]
  },
  {
   "cell_type": "code",
   "execution_count": 4,
   "metadata": {
    "collapsed": true
   },
   "outputs": [],
   "source": [
    "image_reader = tf.WholeFileReader()"
   ]
  },
  {
   "cell_type": "code",
   "execution_count": 5,
   "metadata": {
    "collapsed": true
   },
   "outputs": [],
   "source": [
    "_, image_file = image_reader.read(filename_queue)"
   ]
  },
  {
   "cell_type": "code",
   "execution_count": 6,
   "metadata": {},
   "outputs": [],
   "source": [
    "image           = tf.image.decode_png(image_file, channels=4)\n",
    "image_processed = tf.py_func(color_to_alpha, [image], tf.uint8)\n",
    "image_processed = tf.image.encode_png(image_processed)"
   ]
  },
  {
   "cell_type": "code",
   "execution_count": 7,
   "metadata": {
    "collapsed": true
   },
   "outputs": [],
   "source": [
    "init_op_global = tf.global_variables_initializer()\n",
    "init_op_local = tf.local_variables_initializer()"
   ]
  },
  {
   "cell_type": "code",
   "execution_count": 8,
   "metadata": {},
   "outputs": [],
   "source": [
    "def id_generator(size=20, chars=string.ascii_uppercase + string.ascii_lowercase + string.digits):\n",
    "    return ''.join(random.choice(chars) for _ in range(size))"
   ]
  },
  {
   "cell_type": "code",
   "execution_count": 11,
   "metadata": {},
   "outputs": [],
   "source": [
    "out_dir = \"random_dir/output\"\n",
    "\n",
    "with tf.Session() as sess:\n",
    "    # Required to get the filename matching to run.\n",
    "    sess.run([init_op_global, init_op_local])\n",
    "\n",
    "    # Coordinate the loading of image files.\n",
    "    coord = tf.train.Coordinator()\n",
    "    threads = tf.train.start_queue_runners(coord=coord)\n",
    "\n",
    "    # Get an image tensor and print its value.\n",
    "    _image_processed = sess.run(image_processed)\n",
    "    \n",
    "    if not os.path.exists(out_dir):\n",
    "        os.makedirs(out_dir)\n",
    "        \n",
    "    filename = out_dir + \"/\" + id_generator() + \".jpg\"\n",
    "\n",
    "    with open(filename, \"wb+\") as f:\n",
    "        f.write(_image_processed)\n",
    "        f.close()\n",
    "\n",
    "    # Finish off the filename queue coordinator.\n",
    "    coord.request_stop()\n",
    "    coord.join(threads)"
   ]
  },
  {
   "cell_type": "code",
   "execution_count": null,
   "metadata": {
    "collapsed": true
   },
   "outputs": [],
   "source": []
  }
 ],
 "metadata": {
  "anaconda-cloud": {},
  "kernelspec": {
   "display_name": "Python [conda root]",
   "language": "python",
   "name": "conda-root-py"
  },
  "language_info": {
   "codemirror_mode": {
    "name": "ipython",
    "version": 3
   },
   "file_extension": ".py",
   "mimetype": "text/x-python",
   "name": "python",
   "nbconvert_exporter": "python",
   "pygments_lexer": "ipython3",
   "version": "3.5.3"
  }
 },
 "nbformat": 4,
 "nbformat_minor": 2
}

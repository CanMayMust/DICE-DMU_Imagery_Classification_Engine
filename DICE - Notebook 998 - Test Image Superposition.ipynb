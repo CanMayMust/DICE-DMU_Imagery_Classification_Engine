{
 "cells": [
  {
   "cell_type": "code",
   "execution_count": 1,
   "metadata": {
    "collapsed": true
   },
   "outputs": [],
   "source": [
    "import tensorflow as tf\n",
    "import numpy as np\n",
    "import os, sys, string, random\n",
    "\n",
    "from PIL import Image\n",
    "\n",
    "import matplotlib.pyplot as plt\n",
    "import matplotlib.image as mpimg\n",
    "\n",
    "%matplotlib inline"
   ]
  },
  {
   "cell_type": "code",
   "execution_count": 2,
   "metadata": {},
   "outputs": [],
   "source": [
    "# Get a list of the sub-directories in the INPUT_DIRECTORY\n",
    "INPUT_BG_DIRECTORY = os.path.join(\"data_bg\", \"cleaned\")\n",
    "\n",
    "bg_directories  = [ name for name in os.listdir(INPUT_BG_DIRECTORY) if os.path.isdir(os.path.join(INPUT_BG_DIRECTORY, name)) ]\n",
    "\n",
    "# We scan all the files in the sub-directories with the extensions given above\n",
    "all_bg_files = tf.concat(\n",
    "    [tf.train.match_filenames_once(INPUT_BG_DIRECTORY + \"/\" + x + \"/*.png\") for x in bg_directories],\n",
    "    0\n",
    ")\n",
    "\n",
    "all_bg_files_length = tf.shape(all_bg_files)[0]"
   ]
  },
  {
   "cell_type": "code",
   "execution_count": 24,
   "metadata": {
    "collapsed": true
   },
   "outputs": [],
   "source": [
    "def color_to_alpha(image, luminance_threshold=70):\n",
    "    \n",
    "    data = np.array(image)\n",
    "    \n",
    "    rgb = data[:,:,:3]\n",
    "    \n",
    "    mask = list()\n",
    "\n",
    "    for row in rgb:\n",
    "        row_arr = list()\n",
    "\n",
    "        for pix in row:\n",
    "            lum = ((0.2126*pix[0]) + (0.7152*pix[1]) + (0.0722*pix[2]))/255*100\n",
    "            row_arr.append(lum >= luminance_threshold)\n",
    "\n",
    "        mask.append(row_arr)\n",
    "\n",
    "    mask = np.array(mask)\n",
    "\n",
    "    transparent_color = [0, 0, 0, 0]\n",
    "    \n",
    "    # change all pixels that match color to transparent_color*\n",
    "    data[mask] = transparent_color\n",
    "    \n",
    "    return data"
   ]
  },
  {
   "cell_type": "code",
   "execution_count": 25,
   "metadata": {
    "collapsed": true
   },
   "outputs": [],
   "source": [
    "def overlay_image2background(image, bg_filename):\n",
    "    bg = Image.open(bg_filename)\n",
    "    bg = bg.convert(\"RGBA\")\n",
    "    \n",
    "    composed_img = Image.alpha_composite(bg, Image.fromarray(image))\n",
    "    \n",
    "    return composed_img.convert(\"RGB\")"
   ]
  },
  {
   "cell_type": "code",
   "execution_count": 26,
   "metadata": {
    "collapsed": true
   },
   "outputs": [],
   "source": [
    "filename_queue = tf.train.string_input_producer(tf.train.match_filenames_once(\"./random_dir/original/*.png\"))"
   ]
  },
  {
   "cell_type": "code",
   "execution_count": 27,
   "metadata": {
    "collapsed": true
   },
   "outputs": [],
   "source": [
    "image_reader = tf.WholeFileReader()"
   ]
  },
  {
   "cell_type": "code",
   "execution_count": 28,
   "metadata": {
    "collapsed": true
   },
   "outputs": [],
   "source": [
    "_, image_file = image_reader.read(filename_queue)"
   ]
  },
  {
   "cell_type": "code",
   "execution_count": 29,
   "metadata": {
    "collapsed": true
   },
   "outputs": [],
   "source": [
    "rand_idx = tf.random_uniform(\n",
    "    [1], \n",
    "    minval = 0, \n",
    "    maxval = all_bg_files_length - 1,\n",
    "    dtype  = tf.int32\n",
    ")[0]\n",
    "\n",
    "bg_filename = all_bg_files[rand_idx]"
   ]
  },
  {
   "cell_type": "code",
   "execution_count": 30,
   "metadata": {},
   "outputs": [],
   "source": [
    "image               = tf.image.decode_png(image_file, channels=4)\n",
    "\n",
    "image_processed     = tf.py_func(color_to_alpha, [image], tf.uint8)\n",
    "image_composed      = tf.py_func(overlay_image2background, [image_processed, bg_filename], tf.uint8)\n",
    "\n",
    "image_processed_enc = tf.image.encode_png(image_processed)\n",
    "image_composed_enc  = tf.image.encode_png(image_composed)"
   ]
  },
  {
   "cell_type": "code",
   "execution_count": 31,
   "metadata": {
    "collapsed": true
   },
   "outputs": [],
   "source": [
    "init_op_global = tf.global_variables_initializer()\n",
    "init_op_local = tf.local_variables_initializer()"
   ]
  },
  {
   "cell_type": "code",
   "execution_count": 32,
   "metadata": {
    "collapsed": true
   },
   "outputs": [],
   "source": [
    "def id_generator(size=20, chars=string.ascii_uppercase + string.ascii_lowercase + string.digits):\n",
    "    return ''.join(random.choice(chars) for _ in range(size))"
   ]
  },
  {
   "cell_type": "code",
   "execution_count": 33,
   "metadata": {},
   "outputs": [],
   "source": [
    "out_dir = \"random_dir/output\"\n",
    "\n",
    "with tf.Session() as sess:\n",
    "    # Required to get the filename matching to run.\n",
    "    sess.run([init_op_global, init_op_local])\n",
    "\n",
    "    # Coordinate the loading of image files.\n",
    "    coord = tf.train.Coordinator()\n",
    "    threads = tf.train.start_queue_runners(coord=coord)\n",
    "\n",
    "    # Get an image tensor and print its value.\n",
    "    _image_processed = sess.run(image_composed_enc)\n",
    "    \n",
    "    if not os.path.exists(out_dir):\n",
    "        os.makedirs(out_dir)\n",
    "        \n",
    "    filename = out_dir + \"/\" + id_generator() + \".png\"\n",
    "\n",
    "    with open(filename, \"wb+\") as f:\n",
    "        f.write(_image_processed)\n",
    "        f.close()\n",
    "\n",
    "    # Finish off the filename queue coordinator.\n",
    "    coord.request_stop()\n",
    "    coord.join(threads)"
   ]
  },
  {
   "cell_type": "code",
   "execution_count": null,
   "metadata": {
    "collapsed": true
   },
   "outputs": [],
   "source": []
  }
 ],
 "metadata": {
  "anaconda-cloud": {},
  "kernelspec": {
   "display_name": "Python [conda root]",
   "language": "python",
   "name": "conda-root-py"
  },
  "language_info": {
   "codemirror_mode": {
    "name": "ipython",
    "version": 3
   },
   "file_extension": ".py",
   "mimetype": "text/x-python",
   "name": "python",
   "nbconvert_exporter": "python",
   "pygments_lexer": "ipython3",
   "version": "3.5.3"
  }
 },
 "nbformat": 4,
 "nbformat_minor": 2
}

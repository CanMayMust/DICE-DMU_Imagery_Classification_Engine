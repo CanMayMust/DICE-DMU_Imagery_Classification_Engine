{
 "cells": [
  {
   "cell_type": "markdown",
   "metadata": {},
   "source": [
    "## DICE - Notebook 1.1 - Dataset Cleaning\n",
    "\n",
    "<br/>\n",
    "\n",
    "```\n",
    "*************************************************************************\n",
    "**\n",
    "** 2017 Mai 23\n",
    "**\n",
    "** In place of a legal notice, here is a blessing:\n",
    "**\n",
    "**    May you do good and not evil.\n",
    "**    May you find forgiveness for yourself and forgive others.\n",
    "**    May you share freely, never taking more than you give.\n",
    "**\n",
    "*************************************************************************\n",
    "```\n",
    "\n",
    "<table style=\"width:100%; font-size:14px; margin: 20px 0;\">\n",
    "    <tr>\n",
    "        <td style=\"text-align:center\">\n",
    "            <b>Contact: </b><a href=\"mailto:contact@jonathandekhtiar.eu\" target=\"_blank\">contact@jonathandekhtiar.eu</a>\n",
    "        </td>\n",
    "        <td style=\"text-align:center\">\n",
    "            <b>Twitter: </b><a href=\"https://twitter.com/born2data\" target=\"_blank\">@born2data</a>\n",
    "        </td>\n",
    "        <td style=\"text-align:center\">\n",
    "            <b>Tech. Blog: </b><a href=\"http://www.born2data.com/\" target=\"_blank\">born2data.com</a>\n",
    "        </td>\n",
    "    </tr>\n",
    "    <tr>\n",
    "        <td style=\"text-align:center\">\n",
    "            <b>Personal Website: </b><a href=\"http://www.jonathandekhtiar.eu\" target=\"_blank\">jonathandekhtiar.eu</a>\n",
    "        </td>\n",
    "        <td style=\"text-align:center\">\n",
    "            <b>RSS Feed: </b><a href=\"https://www.feedcrunch.io/@dataradar/\" target=\"_blank\">FeedCrunch.io</a>\n",
    "        </td>\n",
    "        <td style=\"text-align:center\">\n",
    "            <b>LinkedIn: </b><a href=\"https://fr.linkedin.com/in/jonathandekhtiar\" target=\"_blank\">JonathanDEKHTIAR</a>\n",
    "        </td>\n",
    "    </tr>\n",
    "</table>\n",
    "\n",
    "## Objectives\n",
    "\n",
    "In order to maximise the robustness of the re-trained model, each image in the dataset will be loaded and augmented.\n",
    "\n",
    "The augmentation process consists in varying image characteristics such as *brightness, saturation, hue, contrast, gamma, orientation, etc.* These modifications applied to the image are randomly set. \n",
    "\n",
    "This process tends to improve the generalisation power of the model. The number of augmented images generated directly impact the training time and the memory requirements, thus leading to a tradeoff between memory, computing power and the model accuracy.\n",
    "\n",
    "For this study, we have chosen to generate 30 augmented images + the original one, leading to 31 images saved per image in the dataset.\n",
    "\n",
    "\n",
    "## 1. Load the necessary libraries and initialise global variables"
   ]
  },
  {
   "cell_type": "code",
   "execution_count": 1,
   "metadata": {
    "collapsed": true
   },
   "outputs": [],
   "source": [
    "import os, string, random\n",
    "\n",
    "import tensorflow as tf\n",
    "import numpy as np\n",
    "\n",
    "import matplotlib.pyplot as plt\n",
    "\n",
    "%matplotlib inline\n",
    "\n",
    "################################## GLOBAL NOTEBOOK VARS ##################################\n",
    "\n",
    "INPUT_DIRECTORY         = os.path.join(\"data_bg\", \"raw\")\n",
    "OUTPUT_DIRECTORY        = os.path.join(\"data_bg\", \"cleaned\")\n",
    "\n",
    "############################### RANDOM VALUE GENERATION SEED #############################\n",
    "\n",
    "SEED                    = 666\n",
    "\n",
    "######################## Model Dependant Parameters - Inception V1 #######################\n",
    "\n",
    "IMG_HEIGHT              = 224     # This parameter is fixed due to the model used: Inception-V1\n",
    "IMG_WIDTH               = 224     # This parameter is fixed due to the model used: Inception-V1\n",
    "IMG_CHANNELS            = 3       # This parameter is fixed due to the model used: Inception-V1"
   ]
  },
  {
   "cell_type": "markdown",
   "metadata": {},
   "source": [
    "## 2. File Queue and Image Reading Process Definition\n",
    "\n",
    "### 2.1 Define a queue of all the images in \"jpeg\" in the specific data folder\n",
    "\n",
    "Make a queue of file names including all the JPEG images files in the relative image directory."
   ]
  },
  {
   "cell_type": "code",
   "execution_count": 2,
   "metadata": {
    "collapsed": true
   },
   "outputs": [],
   "source": [
    "# Get a list of the sub-directories in the INPUT_DIRECTORY\n",
    "data_directories = [ name for name in os.listdir(INPUT_DIRECTORY) if os.path.isdir(os.path.join(INPUT_DIRECTORY, name)) ]\n",
    "\n",
    "# This Notebook can handle the following data-types\n",
    "png_ext_list  = [\"png\"]\n",
    "jpeg_ext_list = [\"jpg\", \"jpeg\"]\n",
    "\n",
    "ext_list = jpeg_ext_list + png_ext_list # = ['jpg', 'jpeg', 'png']\n",
    "\n",
    "# We scan all the files in the sub-directories with the extensions given above\n",
    "all_files = tf.concat(\n",
    "    [tf.train.match_filenames_once(INPUT_DIRECTORY + \"/\" + x + \"/*.\"+ext) for x in data_directories for ext in ext_list],\n",
    "    0\n",
    ")\n",
    "\n",
    "filename_queue = tf.train.string_input_producer(\n",
    "    all_files, # Merge the sub-tensors into one\n",
    "    num_epochs=1,\n",
    "    seed=SEED,\n",
    "    shuffle=True\n",
    ")"
   ]
  },
  {
   "cell_type": "markdown",
   "metadata": {},
   "source": [
    "### 2.2. Define the image reader\n",
    "\n",
    "Read an entire image file which is required since they're JPEGs, if the images are too large they could be split in advance to smaller files or use the Fixed reader to split up the file."
   ]
  },
  {
   "cell_type": "code",
   "execution_count": 3,
   "metadata": {
    "collapsed": true
   },
   "outputs": [],
   "source": [
    "image_reader = tf.WholeFileReader()"
   ]
  },
  {
   "cell_type": "markdown",
   "metadata": {},
   "source": [
    "### 2.3. Read images from the Queue One by One\n",
    "Read a whole file from the queue, the first returned value in the tuple is the filename which we are ignoring."
   ]
  },
  {
   "cell_type": "code",
   "execution_count": 4,
   "metadata": {
    "collapsed": true
   },
   "outputs": [],
   "source": [
    "image_path, image_file = image_reader.read(filename_queue)"
   ]
  },
  {
   "cell_type": "markdown",
   "metadata": {},
   "source": [
    "### 2.4. Convert each Image to a Tensor\n",
    "\n",
    "Decode the image file, this will turn it into a Tensor which we can then use in training. It automatically detect whether the image is [\"GIF\", \"PNG\", \"JPEG\"] and which decoder to use."
   ]
  },
  {
   "cell_type": "code",
   "execution_count": 5,
   "metadata": {
    "collapsed": true
   },
   "outputs": [],
   "source": [
    "def string_length_tf(t):\n",
    "    return tf.py_func(lambda x: len(x), [t], tf.int32)"
   ]
  },
  {
   "cell_type": "code",
   "execution_count": 6,
   "metadata": {
    "collapsed": true
   },
   "outputs": [],
   "source": [
    "path_length = string_length_tf(image_path)\n",
    "file_extension = tf.substr(image_path, path_length - 3, 3)\n",
    "\n",
    "file_cond = tf.equal(file_extension, jpeg_ext_list)\n",
    "file_cond = tf.count_nonzero(file_cond)\n",
    "file_cond = tf.equal(file_cond, 1) ## 1 => JPEG EXTENSION, 0 => PNG EXTENSION\n",
    "        \n",
    "image_tmp      = tf.cond(\n",
    "                    file_cond, \n",
    "                    lambda: tf.image.decode_jpeg(image_file), \n",
    "                    lambda: tf.image.decode_png(image_file)\n",
    "               )\n",
    "\n",
    "image_resized  = tf.image.resize_images(\n",
    "                    image_tmp, \n",
    "                    tf.stack([IMG_HEIGHT, IMG_WIDTH]), \n",
    "                    method=tf.image.ResizeMethod.BICUBIC,\n",
    "                    align_corners=True\n",
    "               )\n",
    "\n",
    "# resize image by bilinear, bicubic and area will change image data type(from uint8 to float32)\n",
    "image_data     = tf.cast(image_resized, tf.uint8) # We need to convert it back to unint8 to display it properly\n",
    "\n",
    "image_encoded  = tf.image.encode_png(image_data)\n",
    "\n",
    "image_label    = tf.string_split([image_path] , delimiter=os.path.sep).values[-2:][0]  "
   ]
  },
  {
   "cell_type": "markdown",
   "metadata": {},
   "source": [
    "## 4. Define an Initialisation Operation"
   ]
  },
  {
   "cell_type": "code",
   "execution_count": 7,
   "metadata": {
    "collapsed": true
   },
   "outputs": [],
   "source": [
    "init_op_global = tf.global_variables_initializer()\n",
    "init_op_local = tf.local_variables_initializer()"
   ]
  },
  {
   "cell_type": "markdown",
   "metadata": {},
   "source": [
    "## 5. Define a function generating random filenames"
   ]
  },
  {
   "cell_type": "code",
   "execution_count": 8,
   "metadata": {
    "collapsed": true
   },
   "outputs": [],
   "source": [
    "def id_generator(size=20, chars=string.ascii_uppercase + string.ascii_lowercase + string.digits):\n",
    "    return ''.join(random.choice(chars) for _ in range(size))"
   ]
  },
  {
   "cell_type": "markdown",
   "metadata": {},
   "source": [
    "## 7. Launch the dataset generation Session"
   ]
  },
  {
   "cell_type": "code",
   "execution_count": 9,
   "metadata": {},
   "outputs": [
    {
     "name": "stdout",
     "output_type": "stream",
     "text": [
      "Number of Images to process 142\n",
      "\n",
      "\n",
      "Number of Images Processed: 142\n"
     ]
    }
   ],
   "source": [
    "with tf.Session() as sess:\n",
    "    sess.run([init_op_global, init_op_local])\n",
    "\n",
    "    coord = tf.train.Coordinator()\n",
    "    threads = tf.train.start_queue_runners(coord=coord)\n",
    "    \n",
    "    try:\n",
    "        \n",
    "        i = 0        \n",
    "        n_files = len(all_files.eval())\n",
    "        \n",
    "        print(\"Number of Images to process %d\\n\" % n_files)\n",
    "        \n",
    "        while not coord.should_stop():\n",
    "            \n",
    "            _lbl_txt, _image = sess.run([image_label, image_encoded])   \n",
    "            \n",
    "            ## Increment ops count\n",
    "            i += 1 \n",
    "\n",
    "            out_dir = OUTPUT_DIRECTORY + \"/\" + _lbl_txt.decode(\"utf-8\")\n",
    "            \n",
    "            if not os.path.exists(out_dir):\n",
    "                os.makedirs(out_dir)\n",
    "                 \n",
    "            filename = out_dir + \"/\" + id_generator() + \".png\"\n",
    "\n",
    "            with open(filename, \"wb+\") as f:\n",
    "                f.write(_image)\n",
    "                f.close()\n",
    "            \n",
    "            if (i % 300 == 0):\n",
    "                print (\"Processing Image: %d/%d => %.2f%%\" % (i, n_files, i/n_files*100))\n",
    "            \n",
    "    except tf.errors.OutOfRangeError:\n",
    "        pass\n",
    "    \n",
    "    finally:        \n",
    "        print(\"\\nNumber of Images Processed: %d\" % i)\n",
    "        \n",
    "        coord.request_stop()\n",
    "        coord.join(threads)"
   ]
  },
  {
   "cell_type": "code",
   "execution_count": null,
   "metadata": {
    "collapsed": true
   },
   "outputs": [],
   "source": []
  }
 ],
 "metadata": {
  "anaconda-cloud": {},
  "kernelspec": {
   "display_name": "Python [default]",
   "language": "python",
   "name": "python3"
  },
  "language_info": {
   "codemirror_mode": {
    "name": "ipython",
    "version": 3
   },
   "file_extension": ".py",
   "mimetype": "text/x-python",
   "name": "python",
   "nbconvert_exporter": "python",
   "pygments_lexer": "ipython3",
   "version": "3.5.3"
  }
 },
 "nbformat": 4,
 "nbformat_minor": 2
}

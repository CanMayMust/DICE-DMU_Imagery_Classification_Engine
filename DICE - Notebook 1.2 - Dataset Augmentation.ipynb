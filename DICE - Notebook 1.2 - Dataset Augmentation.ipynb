{
 "cells": [
  {
   "cell_type": "markdown",
   "metadata": {},
   "source": [
    "## DICE - Notebook 1.2 - Dataset Augmentation\n",
    "\n",
    "<br/>\n",
    "\n",
    "```\n",
    "*************************************************************************\n",
    "**\n",
    "** 2017 Mai 23\n",
    "**\n",
    "** In place of a legal notice, here is a blessing:\n",
    "**\n",
    "**    May you do good and not evil.\n",
    "**    May you find forgiveness for yourself and forgive others.\n",
    "**    May you share freely, never taking more than you give.\n",
    "**\n",
    "*************************************************************************\n",
    "```\n",
    "\n",
    "<table style=\"width:100%; font-size:14px; margin: 20px 0;\">\n",
    "    <tr>\n",
    "        <td style=\"text-align:center\">\n",
    "            <b>Contact: </b><a href=\"mailto:contact@jonathandekhtiar.eu\" target=\"_blank\">contact@jonathandekhtiar.eu</a>\n",
    "        </td>\n",
    "        <td style=\"text-align:center\">\n",
    "            <b>Twitter: </b><a href=\"https://twitter.com/born2data\" target=\"_blank\">@born2data</a>\n",
    "        </td>\n",
    "        <td style=\"text-align:center\">\n",
    "            <b>Tech. Blog: </b><a href=\"http://www.born2data.com/\" target=\"_blank\">born2data.com</a>\n",
    "        </td>\n",
    "    </tr>\n",
    "    <tr>\n",
    "        <td style=\"text-align:center\">\n",
    "            <b>Personal Website: </b><a href=\"http://www.jonathandekhtiar.eu\" target=\"_blank\">jonathandekhtiar.eu</a>\n",
    "        </td>\n",
    "        <td style=\"text-align:center\">\n",
    "            <b>RSS Feed: </b><a href=\"https://www.feedcrunch.io/@dataradar/\" target=\"_blank\">FeedCrunch.io</a>\n",
    "        </td>\n",
    "        <td style=\"text-align:center\">\n",
    "            <b>LinkedIn: </b><a href=\"https://fr.linkedin.com/in/jonathandekhtiar\" target=\"_blank\">JonathanDEKHTIAR</a>\n",
    "        </td>\n",
    "    </tr>\n",
    "</table>\n",
    "\n",
    "## Objectives\n",
    "\n",
    "In order to maximise the robustness of the re-trained model, each image in the dataset will be loaded and augmented.\n",
    "\n",
    "The augmentation process consists in varying image characteristics such as *brightness, saturation, hue, contrast, gamma, orientation, etc.* These modifications applied to the image are randomly set. \n",
    "\n",
    "This process tends to improve the generalisation power of the model. The number of augmented images generated directly impact the training time and the memory requirements, thus leading to a tradeoff between memory, computing power and the model accuracy.\n",
    "\n",
    "For this study, we have chosen to generate 30 augmented images + the original one, leading to 31 images saved per image in the dataset.\n",
    "\n",
    "\n",
    "## 1. Load the necessary libraries and initialise global variables"
   ]
  },
  {
   "cell_type": "code",
   "execution_count": 1,
   "metadata": {
    "collapsed": true
   },
   "outputs": [],
   "source": [
    "import os, string, random\n",
    "\n",
    "import tensorflow as tf\n",
    "import numpy as np\n",
    "\n",
    "from PIL import Image\n",
    "\n",
    "import matplotlib.pyplot as plt\n",
    "\n",
    "%matplotlib inline\n",
    "\n",
    "################################## GLOBAL NOTEBOOK VARS ##################################\n",
    "\n",
    "INPUT_DIRECTORY         = \"data_cleaned\"\n",
    "OUTPUT_DIRECTORY        = \"data_augmented\"\n",
    "\n",
    "IMG_AUGMENTATION_FACTOR = 30 # The number of augmented images generated from the raw image.\n",
    "\n",
    "############################### RANDOM VALUE GENERATION SEED #############################\n",
    "\n",
    "SEED                    = 666"
   ]
  },
  {
   "cell_type": "markdown",
   "metadata": {},
   "source": [
    "## 2. File Queue and Image Reading Process Definition\n",
    "\n",
    "### 2.1 Define a queue of all the images in \"png\" in the specific data folder\n",
    "\n",
    "Make a queue of file names including all the JPEG images files in the relative image directory."
   ]
  },
  {
   "cell_type": "code",
   "execution_count": 2,
   "metadata": {},
   "outputs": [],
   "source": [
    "# Get a list of the sub-directories in the INPUT_DIRECTORY\n",
    "data_directories = [ name for name in os.listdir(INPUT_DIRECTORY) if os.path.isdir(os.path.join(INPUT_DIRECTORY, name)) ]\n",
    "\n",
    "# We scan all the files in the sub-directories with the extensions given above\n",
    "all_files = tf.concat(\n",
    "    [tf.train.match_filenames_once(INPUT_DIRECTORY + \"/\" + x + \"/*.png\") for x in data_directories],\n",
    "    0\n",
    ")\n",
    "\n",
    "filename_queue = tf.train.string_input_producer(\n",
    "    all_files, # Merge the sub-tensors into one\n",
    "    num_epochs=1,\n",
    "    seed=SEED,\n",
    "    shuffle=True\n",
    ")"
   ]
  },
  {
   "cell_type": "markdown",
   "metadata": {},
   "source": [
    "### 2.2 Define a queue for random backgrounds "
   ]
  },
  {
   "cell_type": "code",
   "execution_count": 3,
   "metadata": {
    "collapsed": true
   },
   "outputs": [],
   "source": [
    "# Get a list of the sub-directories in the INPUT_DIRECTORY\n",
    "INPUT_BG_DIRECTORY = os.path.join(\"data_bg\", \"cleaned\")\n",
    "\n",
    "bg_directories  = [ name for name in os.listdir(INPUT_BG_DIRECTORY) if os.path.isdir(os.path.join(INPUT_BG_DIRECTORY, name)) ]\n",
    "\n",
    "# We scan all the files in the sub-directories with the extensions given above\n",
    "all_bg_files = tf.concat(\n",
    "    [tf.train.match_filenames_once(INPUT_BG_DIRECTORY + \"/\" + x + \"/*.png\") for x in bg_directories],\n",
    "    0\n",
    ")\n",
    "\n",
    "all_bg_files_length = tf.shape(all_bg_files)[0]"
   ]
  },
  {
   "cell_type": "markdown",
   "metadata": {},
   "source": [
    "### 2.2. Define the image reader\n",
    "\n",
    "Read an entire image file which is required since they're JPEGs, if the images are too large they could be split in advance to smaller files or use the Fixed reader to split up the file."
   ]
  },
  {
   "cell_type": "code",
   "execution_count": 4,
   "metadata": {
    "collapsed": true
   },
   "outputs": [],
   "source": [
    "image_reader = tf.WholeFileReader()"
   ]
  },
  {
   "cell_type": "markdown",
   "metadata": {},
   "source": [
    "### 2.3. Read images from the Queue One by One\n",
    "Read a whole file from the queue, the first returned value in the tuple is the filename which we are ignoring."
   ]
  },
  {
   "cell_type": "code",
   "execution_count": 5,
   "metadata": {
    "collapsed": true
   },
   "outputs": [],
   "source": [
    "image_path, image_file = image_reader.read(filename_queue)"
   ]
  },
  {
   "cell_type": "markdown",
   "metadata": {},
   "source": [
    "### 2.4. Convert each Image to a Tensor\n",
    "\n",
    "Decode the image file, this will turn it into a Tensor which we can then use in training. It automatically detect whether the image is [\"GIF\", \"PNG\", \"JPEG\"] and which decoder to use."
   ]
  },
  {
   "cell_type": "code",
   "execution_count": 6,
   "metadata": {
    "collapsed": true
   },
   "outputs": [],
   "source": [
    "def string_length_tf(t):\n",
    "    return tf.py_func(lambda x: len(x), [t], tf.int32)"
   ]
  },
  {
   "cell_type": "code",
   "execution_count": 7,
   "metadata": {
    "collapsed": true
   },
   "outputs": [],
   "source": [
    "path_length = string_length_tf(image_path)\n",
    "        \n",
    "image_data  = tf.image.decode_png(image_file, channels=4)\n",
    "\n",
    "image_label = tf.string_split([image_path] , delimiter=os.path.sep).values[1]  "
   ]
  },
  {
   "cell_type": "markdown",
   "metadata": {},
   "source": [
    "## 3. Perform Image Augmentation\n",
    "\n",
    "### 3.1 Define an Image Augmentation Function"
   ]
  },
  {
   "cell_type": "code",
   "execution_count": 8,
   "metadata": {
    "collapsed": true
   },
   "outputs": [],
   "source": [
    "def augment_image(image):\n",
    "    \n",
    "    ### GAMMA SHIFTING => It affects primarily the high lights ###\n",
    "    \n",
    "    random_gamma      = tf.random_uniform([], 0.5, 1.3)\n",
    "    image_aug         = image ** random_gamma\n",
    "    \n",
    "    ### BRIGHTNESS SHIFTING ###\n",
    "    \n",
    "    # This gives a centered random  image*(1 +/- delta)\n",
    "    # It does not fit our requirements, we would like a random brightness not centered around \"1\".\n",
    "    #image = tf.image.random_brightness(image, max_delta=0.125) \n",
    "    \n",
    "    random_brightness = tf.random_uniform([], 0.3, 1.2)\n",
    "    image             =  image * random_brightness\n",
    "    \n",
    "    ### OPS SHIFTING ###   \n",
    "    \n",
    "    image = tf.image.random_saturation(image, lower=0.5, upper=1.5)\n",
    "    image = tf.image.random_contrast(image, lower=0.5, upper=1.5)\n",
    "    \n",
    "    # randomly horizontally flip the image\n",
    "    do_flip = tf.random_uniform([], 0, 1)\n",
    "    image  = tf.cond(do_flip > 0.5, lambda: tf.image.flip_left_right(image), lambda: image)\n",
    "    \n",
    "    # randomly rotate the image\n",
    "    n_rot = tf.random_uniform([], 0, 3, tf.int32) # 0 => No Rotation, 1 => 90° Rot, 2 => 180° Rot, 3 => 270° Rotation\n",
    "    image = tf.image.rot90(image, n_rot)\n",
    "    \n",
    "     # The random_* ops do not necessarily clamp.\n",
    "    image = tf.clip_by_value(image, 0.0, 255.0)\n",
    "    \n",
    "    return tf.cast(image, tf.uint8)"
   ]
  },
  {
   "cell_type": "markdown",
   "metadata": {},
   "source": [
    "### Create Background Replacing Functions"
   ]
  },
  {
   "cell_type": "code",
   "execution_count": 9,
   "metadata": {
    "collapsed": true
   },
   "outputs": [],
   "source": [
    "def color_to_alpha(image, luminance_threshold=70):\n",
    "    \n",
    "    data = np.array(image)\n",
    "    \n",
    "    rgb = data[:,:,:3]\n",
    "    \n",
    "    mask = list()\n",
    "\n",
    "    for row in rgb:\n",
    "        row_arr = list()\n",
    "\n",
    "        for pix in row:\n",
    "            lum = ((0.2126*pix[0]) + (0.7152*pix[1]) + (0.0722*pix[2]))/255*100\n",
    "            row_arr.append(lum >= luminance_threshold)\n",
    "\n",
    "        mask.append(row_arr)\n",
    "\n",
    "    mask = np.array(mask)\n",
    "\n",
    "    transparent_color = [0, 0, 0, 0]\n",
    "    \n",
    "    # change all pixels that match color to transparent_color*\n",
    "    data[mask] = transparent_color\n",
    "    \n",
    "    return data"
   ]
  },
  {
   "cell_type": "code",
   "execution_count": 10,
   "metadata": {
    "collapsed": true
   },
   "outputs": [],
   "source": [
    "def overlay_image2background(image, bg_filename):\n",
    "    bg = Image.open(bg_filename)\n",
    "    bg = bg.convert(\"RGBA\")\n",
    "    \n",
    "    composed_img = Image.alpha_composite(bg, Image.fromarray(image))\n",
    "    \n",
    "    return composed_img.convert(\"RGB\")"
   ]
  },
  {
   "cell_type": "code",
   "execution_count": 11,
   "metadata": {
    "collapsed": true
   },
   "outputs": [],
   "source": [
    "def get_random_bg_filename():\n",
    "    rand_idx = tf.random_uniform(\n",
    "        [1], \n",
    "        minval = 0, \n",
    "        maxval = all_bg_files_length - 1,\n",
    "        dtype  = tf.int32\n",
    "    )[0]\n",
    "\n",
    "    return all_bg_files[rand_idx]"
   ]
  },
  {
   "cell_type": "markdown",
   "metadata": {},
   "source": [
    "### 3.2. Create a Tensor of Images and Populate it"
   ]
  },
  {
   "cell_type": "code",
   "execution_count": 12,
   "metadata": {},
   "outputs": [],
   "source": [
    "image_transparent = tf.py_func(color_to_alpha, [image_data], tf.uint8)"
   ]
  },
  {
   "cell_type": "code",
   "execution_count": 13,
   "metadata": {},
   "outputs": [],
   "source": [
    "img_arr = tf.stack([\n",
    "    tf.image.encode_png(image_data),\n",
    "])\n",
    "\n",
    "for _ in range(IMG_AUGMENTATION_FACTOR):\n",
    "    rand_idx = tf.random_uniform(\n",
    "        [1], \n",
    "        minval = 0, \n",
    "        maxval = all_bg_files_length - 1,\n",
    "        dtype  = tf.int32\n",
    "    )[0]\n",
    "\n",
    "    bg_filename = all_bg_files[rand_idx]\n",
    "    img_with_random_bg       = tf.py_func(overlay_image2background, [image_transparent, get_random_bg_filename()], tf.uint8)\n",
    "    img_with_random_bg_float = tf.cast(img_with_random_bg, tf.float32) \n",
    "    \n",
    "    img_arr = tf.concat([img_arr, [tf.image.encode_png(augment_image(img_with_random_bg_float))]], 0)"
   ]
  },
  {
   "cell_type": "markdown",
   "metadata": {},
   "source": [
    "## 4. Define an Initialisation Operation"
   ]
  },
  {
   "cell_type": "code",
   "execution_count": 14,
   "metadata": {
    "collapsed": true
   },
   "outputs": [],
   "source": [
    "init_op_global = tf.global_variables_initializer()\n",
    "init_op_local = tf.local_variables_initializer()"
   ]
  },
  {
   "cell_type": "markdown",
   "metadata": {},
   "source": [
    "## 5. Define a function generating random filenames"
   ]
  },
  {
   "cell_type": "code",
   "execution_count": 15,
   "metadata": {
    "collapsed": true
   },
   "outputs": [],
   "source": [
    "def id_generator(size=20, chars=string.ascii_uppercase + string.ascii_lowercase + string.digits):\n",
    "    return ''.join(random.choice(chars) for _ in range(size))"
   ]
  },
  {
   "cell_type": "markdown",
   "metadata": {},
   "source": [
    "## 7. Launch the dataset generation Session"
   ]
  },
  {
   "cell_type": "code",
   "execution_count": 16,
   "metadata": {},
   "outputs": [
    {
     "name": "stdout",
     "output_type": "stream",
     "text": [
      "Number of Images to process 7800\n",
      "\n",
      "Processing Image: 300/7800 => 3.85%\n",
      "Processing Image: 600/7800 => 7.69%\n",
      "Processing Image: 900/7800 => 11.54%\n",
      "Processing Image: 1200/7800 => 15.38%\n",
      "Processing Image: 1500/7800 => 19.23%\n",
      "Processing Image: 1800/7800 => 23.08%\n",
      "Processing Image: 2100/7800 => 26.92%\n",
      "Processing Image: 2400/7800 => 30.77%\n",
      "Processing Image: 2700/7800 => 34.62%\n",
      "Processing Image: 3000/7800 => 38.46%\n",
      "Processing Image: 3300/7800 => 42.31%\n",
      "Processing Image: 3600/7800 => 46.15%\n",
      "Processing Image: 3900/7800 => 50.00%\n",
      "Processing Image: 4200/7800 => 53.85%\n",
      "Processing Image: 4500/7800 => 57.69%\n",
      "Processing Image: 4800/7800 => 61.54%\n",
      "Processing Image: 5100/7800 => 65.38%\n",
      "Processing Image: 5400/7800 => 69.23%\n",
      "Processing Image: 5700/7800 => 73.08%\n",
      "Processing Image: 6000/7800 => 76.92%\n",
      "Processing Image: 6300/7800 => 80.77%\n",
      "Processing Image: 6600/7800 => 84.62%\n",
      "Processing Image: 6900/7800 => 88.46%\n",
      "Processing Image: 7200/7800 => 92.31%\n",
      "Processing Image: 7500/7800 => 96.15%\n",
      "Processing Image: 7800/7800 => 100.00%\n",
      "\n",
      "Number of Images Processed: 7800\n"
     ]
    }
   ],
   "source": [
    "with tf.Session() as sess:\n",
    "    sess.run([init_op_global, init_op_local])\n",
    "\n",
    "    coord = tf.train.Coordinator()\n",
    "    threads = tf.train.start_queue_runners(coord=coord)\n",
    "    \n",
    "    try:\n",
    "        \n",
    "        i = 0        \n",
    "        n_files = len(all_files.eval())\n",
    "        \n",
    "        print(\"Number of Images to process %d\\n\" % n_files)\n",
    "        \n",
    "        while not coord.should_stop():\n",
    "            \n",
    "            _lbl_txt, _img_arr = sess.run([image_label, img_arr])   \n",
    "            \n",
    "            ## Increment ops count\n",
    "            i += 1 \n",
    "\n",
    "            out_dir = OUTPUT_DIRECTORY + \"/\" + _lbl_txt.decode(\"utf-8\")\n",
    "            \n",
    "            if not os.path.exists(out_dir):\n",
    "                os.makedirs(out_dir)\n",
    "                 \n",
    "            for _img in _img_arr:\n",
    "                filename = out_dir + \"/\" + id_generator() + \".png\"\n",
    "\n",
    "                with open(filename, \"wb+\") as f:\n",
    "                    f.write(_img)\n",
    "                    f.close()\n",
    "            \n",
    "            if (i % 300 == 0):\n",
    "                print (\"Processing Image: %d/%d => %.2f%%\" % (i, n_files, i/n_files*100))\n",
    "            \n",
    "    except tf.errors.OutOfRangeError:\n",
    "        pass\n",
    "    \n",
    "    finally:        \n",
    "        print(\"\\nNumber of Images Processed: %d\" % i)\n",
    "        \n",
    "        coord.request_stop()\n",
    "        coord.join(threads)"
   ]
  }
 ],
 "metadata": {
  "anaconda-cloud": {},
  "kernelspec": {
   "display_name": "Python [default]",
   "language": "python",
   "name": "python3"
  },
  "language_info": {
   "codemirror_mode": {
    "name": "ipython",
    "version": 3
   },
   "file_extension": ".py",
   "mimetype": "text/x-python",
   "name": "python",
   "nbconvert_exporter": "python",
   "pygments_lexer": "ipython3",
   "version": "3.5.3"
  }
 },
 "nbformat": 4,
 "nbformat_minor": 2
}
